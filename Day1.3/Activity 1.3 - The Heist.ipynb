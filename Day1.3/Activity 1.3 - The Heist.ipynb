{
 "cells": [
  {
   "cell_type": "markdown",
   "metadata": {},
   "source": [
    "# Activity 1.3 - The Heist\n",
    "\n",
    "Welcome to the Heist!! You are attempting to hack into a vault containing a powerful secret... You will be given a series of tasks to complete using the coding principles we've gone over in class. Successful completion of each task will yield a character of the vault's access key. There are 4 characters to unlock, and they will not be given to you in the correct order."
   ]
  },
  {
   "cell_type": "markdown",
   "metadata": {},
   "source": [
    "<img src=\"ArtAssets3/hack.jpg\">"
   ]
  },
  {
   "cell_type": "markdown",
   "metadata": {},
   "source": [
    "Once you have the access key, you must enter it into the vault by using the following command:\n",
    "\n",
    "`heist.access(password)`\n",
    "\n",
    "Where you replace the word password in the parenthesis with your attempt. In fact, we will be passing variables into methods like this multiple times throughout the challenge.\n",
    "\n",
    "Will you be the first group to finish and unlock the vault's secret???"
   ]
  },
  {
   "cell_type": "markdown",
   "metadata": {},
   "source": [
    "## Getting Started\n",
    "\n",
    "**DO NOT OPEN ANY OF THE .py FILES!**\n",
    "\n",
    "I've organized this page for you with different blocks for each task. One is a place for you to take notes, and the other is a place to run your code.\n",
    "\n",
    "I've given you the code to gain access to the system. Run the line below to hack in and get started."
   ]
  },
  {
   "cell_type": "code",
   "execution_count": 9,
   "metadata": {},
   "outputs": [
    {
     "output_type": "stream",
     "name": "stdout",
     "text": [
      "\n",
      "Welcome to the Heist!! You are attempting to hack into a vault containing a powerful secret...\n",
      "You will be given a series of tasks to complete using the coding principles we've gone over in class.\n",
      "\n",
      "Successful completion of each task will yield a character of the vault's access key. They are not given in order.\n",
      "Once you have collected all 4 characters, you must find the correct order of them to access the vault and complete the hack.\n",
      "\n",
      "For initializing the first system, you will be rewarded a character.\n",
      ".\n",
      "\n",
      ".\n",
      "\n",
      ".\n",
      "\n",
      "The first character is &\n",
      "\n",
      "To access the next task, enter the following command: heist.loops.start()\n"
     ]
    }
   ],
   "source": [
    "import _src.heist as heist\n",
    "heist.start()"
   ]
  },
  {
   "cell_type": "markdown",
   "metadata": {},
   "source": [
    "### Task 2:\n",
    "\n",
    "**Notes:**"
   ]
  },
  {
   "cell_type": "code",
   "execution_count": 5,
   "metadata": {},
   "outputs": [
    {
     "output_type": "stream",
     "name": "stdout",
     "text": [
      "This firewall can be surpassed by brute force. To do so, you must call the following function 1001 times:\n\nhack()\n\nHowever, you must figure out the proper syntax for calling this function. Good Luck!\n"
     ]
    }
   ],
   "source": [
    "heist.loops.start()\n",
    "i = 1002\n",
    "while i < 1002:\n",
    "    #heist.loops.hack()\n",
    "    i += 1"
   ]
  },
  {
   "cell_type": "code",
   "execution_count": null,
   "metadata": {},
   "outputs": [],
   "source": [
    "'First character is &'"
   ]
  },
  {
   "cell_type": "markdown",
   "metadata": {},
   "source": [
    "### Task 3: \n",
    "\n",
    "**Notes:**"
   ]
  },
  {
   "cell_type": "code",
   "execution_count": 6,
   "metadata": {},
   "outputs": [
    {
     "output_type": "stream",
     "name": "stdout",
     "text": [
      "This task is a bit more tricky... We have 8 numbers in a list that should all be the same, but one of them is bigger than the others.\n",
      "You must determine which of these numbers is the biggest, and you can only do so by comparing the sums of other numbers a maximium of 2 times before the system resets.\n",
      "If you select the wrong number, the system will lock you out for 1 minute before reseting to try again.\n",
      "To compare sums, you must enter the indices of the numbers in the list you wish to add for the first sum, then again for the second. You may add any number of the numbers together.\n",
      "\n",
      "\n",
      "The Indices: [0, 1, 2, 3, 4, 5, 6, 7]\n",
      "Input your two sets (lists) of number indices to be weighed, one at a time. They should look like this - XXXX - and may be up to 8 long. The X's represent the indices of the number in the list of numbers.\n",
      "The first set of numbers, ['0', '1', '2'] has a smaller sum than the second set of numbers, ['3', '4', '5']\n",
      "\n",
      "The Indices: [0, 1, 2, 3, 4, 5, 6, 7]\n",
      "Input your two sets (lists) of number indices to be weighed, one at a time. They should look like this - XXXX - and may be up to 8 long. The X's represent the indices of the number in the list of numbers.\n",
      "The first set of numbers, ['3'] has a smaller sum than the second set of numbers, ['4']\n",
      "\n",
      "Repairing list....\n",
      "Repair successful, access granted...\n",
      "The next character is Y\n",
      "To begin the next challenge, input heist.fuseBypass.start()\n"
     ]
    }
   ],
   "source": [
    "heist.numberPatch.start()\n",
    "# Second character is 5"
   ]
  },
  {
   "cell_type": "markdown",
   "metadata": {},
   "source": [
    "### Task 4:\n",
    "\n",
    "**Notes:**"
   ]
  },
  {
   "cell_type": "code",
   "execution_count": null,
   "metadata": {},
   "outputs": [],
   "source": [
    "#3rd character is Y"
   ]
  },
  {
   "cell_type": "code",
   "execution_count": 8,
   "metadata": {
    "tags": []
   },
   "outputs": [
    {
     "output_type": "stream",
     "name": "stdout",
     "text": [
      "Nothing happened at 1.\n",
      "\n",
      "Nothing happened at 3.\n",
      "\n",
      "Nothing happened at 5.\n",
      "\n",
      "Nothing happened at 7.\n",
      "\n",
      "Nothing happened at 9.\n",
      "\n",
      "Nothing happened at 11.\n",
      "\n",
      "Nothing happened at 13.\n",
      "\n",
      "Nothing happened at 15.\n",
      "\n",
      "Nothing happened at 17.\n",
      "\n",
      "Nothing happened at 19.\n",
      "\n",
      "Nothing happened at 21.\n",
      "\n",
      "Nothing happened at 23.\n",
      "\n",
      "Nothing happened at 25.\n",
      "\n",
      "Nothing happened at 27.\n",
      "\n",
      "Nothing happened at 29.\n",
      "\n",
      "Nothing happened at 31.\n",
      "\n",
      "Nothing happened at 33.\n",
      "\n",
      "Nothing happened at 35.\n",
      "\n",
      "Nothing happened at 37.\n",
      "\n",
      "Nothing happened at 39.\n",
      "\n",
      "Nothing happened at 41.\n",
      "\n",
      "Nothing happened at 43.\n",
      "\n",
      "Nothing happened at 45.\n",
      "\n",
      "Nothing happened at 47.\n",
      "\n",
      "Nothing happened at 49.\n",
      "\n",
      "Nothing happened at 51.\n",
      "\n",
      "Nothing happened at 53.\n",
      "\n",
      "Nothing happened at 55.\n",
      "\n",
      "Nothing happened at 57.\n",
      "\n",
      "Nothing happened at 59.\n",
      "\n",
      "Nothing happened at 61.\n",
      "\n",
      "Nothing happened at 63.\n",
      "\n",
      "Nothing happened at 65.\n",
      "\n",
      "Nothing happened at 67.\n",
      "\n",
      "Nothing happened at 69.\n",
      "\n",
      "Nothing happened at 71.\n",
      "\n",
      "Nothing happened at 73.\n",
      "\n",
      "Nothing happened at 75.\n",
      "\n",
      "Nothing happened at 77.\n",
      "\n",
      "Nothing happened at 79.\n",
      "\n",
      "Nothing happened at 81.\n",
      "\n",
      "Nothing happened at 83.\n",
      "\n",
      "Nothing happened at 85.\n",
      "\n",
      "Nothing happened at 87.\n",
      "\n",
      "Nothing happened at 89.\n",
      "\n",
      "Nothing happened at 91.\n",
      "\n",
      "Nothing happened at 93.\n",
      "\n",
      "Nothing happened at 95.\n",
      "\n",
      "Nothing happened at 97.\n",
      "\n",
      "Nothing happened at 99.\n",
      "\n",
      "Nothing happened at 101.\n",
      "\n",
      "Nothing happened at 103.\n",
      "\n",
      "Nothing happened at 105.\n",
      "\n",
      "Nothing happened at 107.\n",
      "\n",
      "Nothing happened at 109.\n",
      "\n",
      "Nothing happened at 111.\n",
      "\n",
      "Nothing happened at 113.\n",
      "\n",
      "Nothing happened at 115.\n",
      "\n",
      "Nothing happened at 117.\n",
      "\n",
      "Nothing happened at 119.\n",
      "\n",
      "Nothing happened at 121.\n",
      "\n",
      "Nothing happened at 123.\n",
      "\n",
      "Nothing happened at 125.\n",
      "\n",
      "Nothing happened at 127.\n",
      "\n",
      "Nothing happened at 129.\n",
      "\n",
      "Nothing happened at 131.\n",
      "\n",
      "Nothing happened at 133.\n",
      "\n",
      "Nothing happened at 135.\n",
      "\n",
      "Nothing happened at 137.\n",
      "\n",
      "Nothing happened at 139.\n",
      "\n",
      "Nothing happened at 141.\n",
      "\n",
      "Nothing happened at 143.\n",
      "\n",
      "Nothing happened at 145.\n",
      "\n",
      "Nothing happened at 147.\n",
      "\n",
      "Nothing happened at 149.\n",
      "\n",
      "Nothing happened at 151.\n",
      "\n",
      "Nothing happened at 153.\n",
      "\n",
      "Nothing happened at 155.\n",
      "\n",
      "Nothing happened at 157.\n",
      "\n",
      "Nothing happened at 159.\n",
      "\n",
      "Nothing happened at 161.\n",
      "\n",
      "Nothing happened at 163.\n",
      "\n",
      "Nothing happened at 165.\n",
      "\n",
      "Nothing happened at 167.\n",
      "\n",
      "Nothing happened at 169.\n",
      "\n",
      "Nothing happened at 171.\n",
      "\n",
      "Nothing happened at 173.\n",
      "\n",
      "Nothing happened at 175.\n",
      "\n",
      "Nothing happened at 177.\n",
      "\n",
      "Nothing happened at 179.\n",
      "\n",
      "Nothing happened at 181.\n",
      "\n",
      "Nothing happened at 183.\n",
      "\n",
      "Nothing happened at 185.\n",
      "\n",
      "Nothing happened at 187.\n",
      "\n",
      "Nothing happened at 189.\n",
      "\n",
      "Nothing happened at 191.\n",
      "\n",
      "Nothing happened at 193.\n",
      "\n",
      "Nothing happened at 195.\n",
      "\n",
      "Nothing happened at 197.\n",
      "\n",
      "Nothing happened at 199.\n",
      "\n",
      "Nothing happened at 201.\n",
      "\n",
      "Nothing happened at 203.\n",
      "\n",
      "Nothing happened at 205.\n",
      "\n",
      "Nothing happened at 207.\n",
      "\n",
      "Nothing happened at 209.\n",
      "\n",
      "Nothing happened at 211.\n",
      "\n",
      "Nothing happened at 213.\n",
      "\n",
      "Nothing happened at 215.\n",
      "\n",
      "Nothing happened at 217.\n",
      "\n",
      "Nothing happened at 219.\n",
      "\n",
      "Nothing happened at 221.\n",
      "\n",
      "Nothing happened at 223.\n",
      "\n",
      "Nothing happened at 225.\n",
      "\n",
      "Nothing happened at 227.\n",
      "\n",
      "Nothing happened at 229.\n",
      "\n",
      "Nothing happened at 231.\n",
      "\n",
      "Nothing happened at 233.\n",
      "\n",
      "Nothing happened at 235.\n",
      "\n",
      "You blew fuse 237\n",
      "\n",
      "You blew fuse 236\n",
      "\n",
      "Target Fuse: 235\n",
      "Correct fuse bypass detected....\n",
      "\n",
      "Authorization verified. Bypassing...\n",
      "\n",
      "The next character is 7\n",
      "Now, you must unscramble the characters to find the passcode. Enter the password into the parenthesis in heist.access(). If you guess the password correctly, it will return 'True', otherwise it will return 'False'.\n",
      "You may have to write some code to guess the correct combination\n"
     ]
    }
   ],
   "source": [
    "fuseIsSafe = True\n",
    "N = -1\n",
    "\n",
    "while(fuseIsSafe):\n",
    "    N += 2\n",
    "    fuseIsSafe = heist.fuseBypass.test(N)\n",
    "else:\n",
    "    fuseIsSafe = heist.fuseBypass.test(N - 1)\n",
    "    if fuseIsSafe:\n",
    "        print(\"Target Fuse: \"+str(N - 1))\n",
    "    else:\n",
    "        print(\"Target Fuse: \"+str(N - 2))\n",
    "        \n",
    "heist.fuseBypass.bypass()\n",
    "#for some reason it said I had too many trials, even if I had less trials than the example problem so I did not understand what I was missing, what my code was: \n",
    "# heist.fuseBypass.start()\n",
    "# counter = 1\n",
    "# while heist.fuseBypass.test(counter) == True:\n",
    "# counter += 1\n",
    "# heist.fuseBypass.bypass()"
   ]
  },
  {
   "cell_type": "markdown",
   "metadata": {},
   "source": [
    "### Enter Acess Key:\n",
    "\n",
    "**Notes:**"
   ]
  },
  {
   "cell_type": "code",
   "execution_count": 10,
   "metadata": {},
   "outputs": [
    {
     "output_type": "stream",
     "name": "stdout",
     "text": [
      "&&&&\n&&&5\n&&&7\n&&&Y\n&&5&\n&&55\n&&57\n&&5Y\n&&7&\n&&75\n&&77\n&&7Y\n&&Y&\n&&Y5\n&&Y7\n&&YY\n&5&&\n&5&5\n&5&7\n&5&Y\n&55&\n&555\n&557\n&55Y\n&57&\n&575\n&577\n&57Y\n&5Y&\n&5Y5\n&5Y7\n&5YY\n&7&&\n&7&5\n&7&7\n&7&Y\n&75&\n&755\n&757\n&75Y\n&77&\n&775\n&777\n&77Y\n&7Y&\n&7Y5\n&7Y7\n&7YY\n&Y&&\n&Y&5\n&Y&7\n&Y&Y\n&Y5&\n&Y55\n&Y57\n&Y5Y\n&Y7&\n&Y75\n&Y77\n&Y7Y\n&YY&\n&YY5\n&YY7\n&YYY\n5&&&\n5&&5\n5&&7\n5&&Y\n5&5&\n5&55\n5&57\n5&5Y\n5&7&\n5&75\n5&77\n5&7Y\n5&Y&\n5&Y5\n5&Y7\n5&YY\n55&&\n55&5\n55&7\n55&Y\n555&\n5555\n5557\n555Y\n557&\n5575\n5577\n557Y\n55Y&\n55Y5\n55Y7\n55YY\n57&&\n57&5\n57&7\n57&Y\n575&\n5755\n5757\n575Y\n577&\n5775\n5777\n577Y\n57Y&\n57Y5\n57Y7\n57YY\n5Y&&\n5Y&5\n5Y&7\n5Y&Y\n5Y5&\n5Y55\n5Y57\n5Y5Y\n5Y7&\n5Y75\n5Y77\n5Y7Y\n5YY&\n5YY5\n5YY7\n5YYY\n7&&&\n7&&5\n7&&7\n7&&Y\n7&5&\n7&55\n7&57\n7&5Y\n7&7&\n7&75\n7&77\n7&7Y\n7&Y&\n7&Y5\n7&Y7\n7&YY\n75&&\n75&5\n75&7\n75&Y\n755&\n7555\n7557\n755Y\n757&\n7575\n7577\n757Y\n75Y&\n75Y5\n75Y7\n75YY\n77&&\n77&5\n77&7\n77&Y\n775&\n7755\n7757\n775Y\n777&\n7775\n7777\n777Y\n77Y&\n77Y5\n77Y7\n77YY\n7Y&&\n7Y&5\n7Y&7\n7Y&Y\n7Y5&\n7Y55\n7Y57\n7Y5Y\n7Y7&\n7Y75\n7Y77\n7Y7Y\n7YY&\n7YY5\n7YY7\n7YYY\nY&&&\nY&&5\nY&&7\nY&&Y\nY&5&\nY&55\nY&57\nY&5Y\nY&7&\nY&75\nY&77\nY&7Y\nY&Y&\nY&Y5\nY&Y7\nY&YY\nY5&&\nY5&5\nY5&7\nY5&Y\nY55&\nY555\nY557\nY55Y\nY57&\nY575\nY577\nY57Y\nY5Y&\nY5Y5\nY5Y7\nY5YY\nY7&&\nY7&5\nHacking attempt detected... Password is key plus 4 more characters: GL8T... These are not in order. Try again with all 8 characters...\nY7&7\nY7&Y\nY75&\nY755\nY757\nY75Y\nY77&\nY775\nY777\nY77Y\nY7Y&\nY7Y5\nY7Y7\nY7YY\nYY&&\nYY&5\nYY&7\nYY&Y\nYY5&\nYY55\nYY57\nYY5Y\nYY7&\nYY75\nYY77\nYY7Y\nYYY&\nYYY5\nYYY7\nYYYY\nWe tried 256 passwords with this loop\n"
     ]
    }
   ],
   "source": [
    "characters = ['&', '5', '7', 'Y']\n",
    "passwordsTried = 0\n",
    "\n",
    "for firstLetter in characters:\n",
    "    for secondLetter in characters:\n",
    "        for thirdLetter in characters:\n",
    "            for fourthLetter in characters:\n",
    "                password = firstLetter + secondLetter + thirdLetter + fourthLetter\n",
    "                print(password)\n",
    "                heist.access(password)\n",
    "                passwordsTried += 1\n",
    "\n",
    "print(\"We tried \"+str(passwordsTried)+\" passwords with this loop\")"
   ]
  },
  {
   "cell_type": "code",
   "execution_count": null,
   "metadata": {},
   "outputs": [],
   "source": []
  },
  {
   "cell_type": "code",
   "execution_count": 11,
   "metadata": {},
   "outputs": [
    {
     "output_type": "stream",
     "name": "stdout",
     "text": [
      "Password authentication complete...\n",
      "Retrieving data...\n",
      ".\n",
      "\n",
      ".\n",
      "\n",
      ".\n",
      "\n",
      "\n",
      "Congratulations! You've successfully unlocked the vault. Don't spoil the Rickroll for anyone else ;)\n",
      "13103\n"
     ]
    }
   ],
   "source": [
    "characters = ('&', '5', 'Y', '7', 'G', 'L', '8', 'T')\n",
    "baseEight = [0,0,0,0,0,0,0,0]\n",
    "numberOfChecks = 0\n",
    "\n",
    "unlocked = False\n",
    "\n",
    "while(not unlocked):\n",
    "    #This checks for repeat digits in the list. With a quick google search I found the set() function that removes \n",
    "    #duplicate items from a list. So if any number is repeated we skip because the length of set(baseEight) will be\n",
    "    #less than the length of baseEight\n",
    "    \n",
    "    currentSet = baseEight\n",
    "    \n",
    "    if len(baseEight) == len(set(currentSet)): #didn't want to modify baseEight for the check so copied to currentSet first\n",
    "        password = characters[baseEight[0]]+characters[baseEight[1]]+characters[baseEight[2]]+characters[baseEight[3]]+characters[baseEight[4]]+characters[baseEight[5]]+characters[baseEight[6]]+characters[baseEight[7]]\n",
    "        unlocked = heist.access(password)\n",
    "        numberOfChecks += 1\n",
    "    \n",
    "    \n",
    "    #This is the Lexicographical Order algorithm. Essentially, it will count up the digits in baseEight until they reach\n",
    "    #7, then reset that digit to 0 and add one to the next digit. Check out\n",
    "    #https://en.wikipedia.org/wiki/Lexicographical_order for more info. If you don't understand it, don't sweat it\n",
    "    #the nested loops solution works great\n",
    "    counter = 1\n",
    "    for i in range(8):\n",
    "        if (baseEight[i] < 7 or counter == 0):\n",
    "            baseEight[i] += counter\n",
    "            counter = 0\n",
    "            break\n",
    "        else:\n",
    "            baseEight[i] = 0\n",
    "            counter = 1\n",
    "            \n",
    "    if baseEight == [7,7,7,7,7,7,7,7]:\n",
    "        break\n",
    "else:        \n",
    "    print(numberOfChecks)"
   ]
  },
  {
   "cell_type": "code",
   "execution_count": null,
   "metadata": {},
   "outputs": [],
   "source": []
  }
 ],
 "metadata": {
  "kernelspec": {
   "name": "python3",
   "display_name": "Python 3.9.6 64-bit ('3.9')"
  },
  "language_info": {
   "codemirror_mode": {
    "name": "ipython",
    "version": 3
   },
   "file_extension": ".py",
   "mimetype": "text/x-python",
   "name": "python",
   "nbconvert_exporter": "python",
   "pygments_lexer": "ipython3",
   "version": "3.9.6"
  },
  "interpreter": {
   "hash": "7812ea015bdcee6f23a998adcdd2ef97c151c0c241b7b7070987d9313e41299d"
  }
 },
 "nbformat": 4,
 "nbformat_minor": 2
}