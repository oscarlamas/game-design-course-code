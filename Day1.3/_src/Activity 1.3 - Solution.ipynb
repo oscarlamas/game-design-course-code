{
 "cells": [
  {
   "cell_type": "markdown",
   "metadata": {},
   "source": [
    "# Activity 1.3 - The Heist\n",
    "\n",
    "Welcome to the Heist!! You are attempting to hack into a vault containing a powerful secret... You will be given a series of tasks to complete using the coding principles we've gone over in class. Successful completion of each task will yield a character of the vault's access key. There are 4 characters to unlock, and they will not be given to you in the correct order."
   ]
  },
  {
   "cell_type": "markdown",
   "metadata": {},
   "source": [
    "<img src=\"ArtAssets3/hack.jpg\">"
   ]
  },
  {
   "cell_type": "markdown",
   "metadata": {},
   "source": [
    "Once you have the access key, you must enter it into the vault by using the following command:\n",
    "\n",
    "`heist.access(password)`\n",
    "\n",
    "Where you replace the word password in the parenthesis with your attempt. In fact, we will be passing variables into methods like this multiple times throughout the challenge.\n",
    "\n",
    "Will you be the first group to finish and unlock the vault's secret???"
   ]
  },
  {
   "cell_type": "markdown",
   "metadata": {},
   "source": [
    "## Getting Started\n",
    "\n",
    "I've organized this page for you with different blocks for each task. One is a place for you to take notes, and the other is a place to run your code.\n",
    "\n",
    "I've given you the code to gain access to the system. Run the line below to hack in and get started."
   ]
  },
  {
   "cell_type": "code",
   "execution_count": 5,
   "metadata": {},
   "outputs": [
    {
     "output_type": "error",
     "ename": "ModuleNotFoundError",
     "evalue": "No module named '_src'",
     "traceback": [
      "\u001b[0;31m---------------------------------------------------------------------------\u001b[0m",
      "\u001b[0;31mModuleNotFoundError\u001b[0m                       Traceback (most recent call last)",
      "\u001b[0;32m/var/folders/sg/l98mgdfd1h74209nxf37yhzh0000gn/T/ipykernel_11021/3446970486.py\u001b[0m in \u001b[0;36m<module>\u001b[0;34m\u001b[0m\n\u001b[0;32m----> 1\u001b[0;31m \u001b[0;32mimport\u001b[0m \u001b[0m_src\u001b[0m\u001b[0;34m.\u001b[0m\u001b[0mheist\u001b[0m \u001b[0;32mas\u001b[0m \u001b[0mheist\u001b[0m\u001b[0;34m\u001b[0m\u001b[0;34m\u001b[0m\u001b[0m\n\u001b[0m\u001b[1;32m      2\u001b[0m \u001b[0mheist\u001b[0m\u001b[0;34m.\u001b[0m\u001b[0mstart\u001b[0m\u001b[0;34m(\u001b[0m\u001b[0;34m)\u001b[0m\u001b[0;34m\u001b[0m\u001b[0;34m\u001b[0m\u001b[0m\n",
      "\u001b[0;31mModuleNotFoundError\u001b[0m: No module named '_src'"
     ]
    }
   ],
   "source": [
    "import _src.heist as heist\n",
    "heist.start()"
   ]
  },
  {
   "cell_type": "markdown",
   "metadata": {},
   "source": [
    "### Task 2: CHARACTERS: &\n",
    "\n",
    "**Notes: The command heist.loops.start() is a *method* in the *loops* component (class, specifically, which we'll learn about in 2.1) of the *heist* module we just imported, just like numpy.random.randint(start,finish) uses the *randint* method of the *random* component in the *numpy* module.**"
   ]
  },
  {
   "cell_type": "code",
   "execution_count": 2,
   "metadata": {},
   "outputs": [
    {
     "name": "stdout",
     "output_type": "stream",
     "text": [
      "This firewall can be surpassed by brute force. To do so, you must call the following function 1001 times:\n",
      "\n",
      "hack()\n",
      "\n",
      "However, you must figure out the proper syntax for calling this function. Good Luck!\n"
     ]
    }
   ],
   "source": [
    "heist.loops.start()"
   ]
  },
  {
   "cell_type": "code",
   "execution_count": 3,
   "metadata": {},
   "outputs": [
    {
     "name": "stdout",
     "output_type": "stream",
     "text": [
      "Congratulations! You've successfully hacked once. Now you need to hack 1000 more times...\n",
      "\n",
      "That's 100 hacks... 10% complete\n",
      "\n",
      "20.0% complete...\n",
      "30.0% complete...\n",
      "40.0% complete...\n",
      "50.0% complete...\n",
      "60.0% complete...\n",
      "70.0% complete...\n",
      "80.0% complete...\n",
      "90.0% complete...\n",
      "Task completed. The next characer: 5\n",
      "For your next task, run heist.numberPatch.start()\n"
     ]
    }
   ],
   "source": [
    "#The hack() method is inside the heist.loops component. To call it, we must use heist.loops.hack()\n",
    "#We need to do this 1001 times, so a for loop makes sense:\n",
    "\n",
    "for x in range(1001):\n",
    "    heist.loops.hack()\n",
    "    \n",
    "#The only reason this is taking so long is because I slowed the process down to make it a bit more exciting..."
   ]
  },
  {
   "cell_type": "markdown",
   "metadata": {},
   "source": [
    "### Task 3: CHARACTERS: &5\n",
    "\n",
    "**Notes: the next component in the puzzle uses the same syntax as before, calling the *start()* method from the *numberPatch* component (class) in the *heist* module:**"
   ]
  },
  {
   "cell_type": "code",
   "execution_count": 4,
   "metadata": {},
   "outputs": [
    {
     "name": "stdout",
     "output_type": "stream",
     "text": [
      "This task is a bit more tricky... We have 8 numbers in a list that should all be the same, but one of them is bigger than the others.\n",
      "You must determine which of these numbers is the biggest, and you can only do so by comparing the sums of other numbers a maximium of 2 times before the system resets.\n",
      "If you select the wrong number, the system will lock you out for 1 minute before reseting to try again.\n",
      "To compare sums, you must enter the indices of the numbers in the list you wish to add for the first sum, then again for the second. You may add any number of the numbers together.\n",
      "\n",
      "\n",
      "The Indices: [0, 1, 2, 3, 4, 5, 6, 7]\n",
      "Input your two sets (lists) of number indices to be weighed, one at a time. They should look like this - XXXX - and may be up to 8 long. The X's represent the indices of the number in the list of numbers.\n",
      "First set of numbers to add: 012\n",
      "Second set of numbers to add: 345\n",
      "The first set of numbers, ['0', '1', '2'] has a larger sum than the second set of numbers, ['3', '4', '5']\n",
      "\n",
      "The Indices: [0, 1, 2, 3, 4, 5, 6, 7]\n",
      "Input your two sets (lists) of number indices to be weighed, one at a time. They should look like this - XXXX - and may be up to 8 long. The X's represent the indices of the number in the list of numbers.\n",
      "First set of numbers to add: 0\n",
      "Second set of numbers to add: 1\n",
      "The two sets, ['0'] and ['1'] are of equal sum\n",
      "Enter your answer for the index of the one larger number.\n",
      "If you would like to skip your guess and try again, enter anything but a number\n",
      "2\n",
      "\n",
      "Repairing list....\n",
      "Repair successful, access granted...\n",
      "The next character is Y\n",
      "To begin the next challenge, input heist.fuseBypass.start()\n"
     ]
    }
   ],
   "source": [
    "heist.numberPatch.start()"
   ]
  },
  {
   "cell_type": "markdown",
   "metadata": {},
   "source": [
    "**This is a variation of a classic riddle with two scales and 8 bags of gold. Here, the solution is to try two sets of three and see if one or the other is bigger. If one is, select two components from that set and compare. Either one of them is bigger and is the answer, or neither is bigger, thus the third component you did not just compare is the answer. The results above are an example of this.**\n",
    "\n",
    "**If neither set of three is bigger than the other, your answer is in one of the other two numbers you didn't compare. Compare them, and you'll have your answer**"
   ]
  },
  {
   "cell_type": "markdown",
   "metadata": {},
   "source": [
    "### Task 4: CHARACTERS: &5Y\n",
    "\n",
    "**Notes: This puzzle is typically skinned as an egg drop problem (you can find it online). While we could start at the 0th fuse and test every fuse until we blew one, there is a faster, more efficient way to do it. Instead, starting with fuse 1, we will test every other fuse. Once we blow a fuse, we know that either that fuse, the Nth fuse, is the last one OR the (N-1)th fuse is the last fuse. Thus, we test the N-1 fuse and if it blows, our bypass target is N-2; if it doesn't, our bypass target is N-1.**"
   ]
  },
  {
   "cell_type": "code",
   "execution_count": 5,
   "metadata": {},
   "outputs": [
    {
     "name": "stdout",
     "output_type": "stream",
     "text": [
      "To unlock the next character in the password, we'll need to bypass a fuse in the computer system.\n",
      "The fuses are numbered 0-999. To test a fuse, you must enter which fuse to test in the parenthesis of heist.fuseBypass.test() and run.\n",
      "If you test a fuse higher than the target, the fuse will blow and the test will return False. If you test a fuse lower than the target, the test will return True\n",
      "You only get 2 blown fuses before you have to commit to the bypass.\n",
      "\n",
      "To bypass the target, run heist.fuseBypass.bypass()\n",
      "If you guess wrong, the system will reset, and the bypass fuse will change.\n",
      "\n",
      "Use what you know of python to write some code to help you test as many fuses as possible quickly. If you take too many attempts, \n",
      "the code will tell you whether or not you got the right fuse, but will make you try again to guess faster\n",
      "Good Luck!\n",
      "\n"
     ]
    }
   ],
   "source": [
    "heist.fuseBypass.start()"
   ]
  },
  {
   "cell_type": "code",
   "execution_count": 2,
   "metadata": {},
   "outputs": [
    {
     "name": "stdout",
     "output_type": "stream",
     "text": [
      "Nothing happened at 1.\n",
      "\n",
      "Nothing happened at 3.\n",
      "\n",
      "Nothing happened at 5.\n",
      "\n",
      "Nothing happened at 7.\n",
      "\n",
      "Nothing happened at 9.\n",
      "\n",
      "Nothing happened at 11.\n",
      "\n",
      "Nothing happened at 13.\n",
      "\n",
      "Nothing happened at 15.\n",
      "\n",
      "Nothing happened at 17.\n",
      "\n",
      "Nothing happened at 19.\n",
      "\n",
      "Nothing happened at 21.\n",
      "\n",
      "Nothing happened at 23.\n",
      "\n",
      "Nothing happened at 25.\n",
      "\n",
      "Nothing happened at 27.\n",
      "\n",
      "Nothing happened at 29.\n",
      "\n",
      "Nothing happened at 31.\n",
      "\n",
      "Nothing happened at 33.\n",
      "\n",
      "Nothing happened at 35.\n",
      "\n",
      "Nothing happened at 37.\n",
      "\n",
      "Nothing happened at 39.\n",
      "\n",
      "Nothing happened at 41.\n",
      "\n",
      "Nothing happened at 43.\n",
      "\n",
      "Nothing happened at 45.\n",
      "\n",
      "Nothing happened at 47.\n",
      "\n",
      "Nothing happened at 49.\n",
      "\n",
      "Nothing happened at 51.\n",
      "\n",
      "Nothing happened at 53.\n",
      "\n",
      "Nothing happened at 55.\n",
      "\n",
      "Nothing happened at 57.\n",
      "\n",
      "Nothing happened at 59.\n",
      "\n",
      "Nothing happened at 61.\n",
      "\n",
      "Nothing happened at 63.\n",
      "\n",
      "Nothing happened at 65.\n",
      "\n",
      "Nothing happened at 67.\n",
      "\n",
      "Nothing happened at 69.\n",
      "\n",
      "Nothing happened at 71.\n",
      "\n",
      "Nothing happened at 73.\n",
      "\n",
      "Nothing happened at 75.\n",
      "\n",
      "Nothing happened at 77.\n",
      "\n",
      "Nothing happened at 79.\n",
      "\n",
      "Nothing happened at 81.\n",
      "\n",
      "Nothing happened at 83.\n",
      "\n",
      "Nothing happened at 85.\n",
      "\n",
      "Nothing happened at 87.\n",
      "\n",
      "Nothing happened at 89.\n",
      "\n",
      "Nothing happened at 91.\n",
      "\n",
      "Nothing happened at 93.\n",
      "\n",
      "Nothing happened at 95.\n",
      "\n",
      "Nothing happened at 97.\n",
      "\n",
      "Nothing happened at 99.\n",
      "\n",
      "Nothing happened at 101.\n",
      "\n",
      "Nothing happened at 103.\n",
      "\n",
      "Nothing happened at 105.\n",
      "\n",
      "Nothing happened at 107.\n",
      "\n",
      "Nothing happened at 109.\n",
      "\n",
      "Nothing happened at 111.\n",
      "\n",
      "Nothing happened at 113.\n",
      "\n",
      "Nothing happened at 115.\n",
      "\n",
      "Nothing happened at 117.\n",
      "\n",
      "Nothing happened at 119.\n",
      "\n",
      "Nothing happened at 121.\n",
      "\n",
      "Nothing happened at 123.\n",
      "\n",
      "Nothing happened at 125.\n",
      "\n",
      "Nothing happened at 127.\n",
      "\n",
      "Nothing happened at 129.\n",
      "\n",
      "Nothing happened at 131.\n",
      "\n",
      "Nothing happened at 133.\n",
      "\n",
      "Nothing happened at 135.\n",
      "\n",
      "Nothing happened at 137.\n",
      "\n",
      "Nothing happened at 139.\n",
      "\n",
      "Nothing happened at 141.\n",
      "\n",
      "Nothing happened at 143.\n",
      "\n",
      "Nothing happened at 145.\n",
      "\n",
      "Nothing happened at 147.\n",
      "\n",
      "Nothing happened at 149.\n",
      "\n",
      "Nothing happened at 151.\n",
      "\n",
      "Nothing happened at 153.\n",
      "\n",
      "Nothing happened at 155.\n",
      "\n",
      "Nothing happened at 157.\n",
      "\n",
      "Nothing happened at 159.\n",
      "\n",
      "Nothing happened at 161.\n",
      "\n",
      "Nothing happened at 163.\n",
      "\n",
      "Nothing happened at 165.\n",
      "\n",
      "Nothing happened at 167.\n",
      "\n",
      "Nothing happened at 169.\n",
      "\n",
      "Nothing happened at 171.\n",
      "\n",
      "Nothing happened at 173.\n",
      "\n",
      "Nothing happened at 175.\n",
      "\n",
      "Nothing happened at 177.\n",
      "\n",
      "Nothing happened at 179.\n",
      "\n",
      "Nothing happened at 181.\n",
      "\n",
      "Nothing happened at 183.\n",
      "\n",
      "Nothing happened at 185.\n",
      "\n",
      "Nothing happened at 187.\n",
      "\n",
      "Nothing happened at 189.\n",
      "\n",
      "Nothing happened at 191.\n",
      "\n",
      "Nothing happened at 193.\n",
      "\n",
      "Nothing happened at 195.\n",
      "\n",
      "Nothing happened at 197.\n",
      "\n",
      "Nothing happened at 199.\n",
      "\n",
      "Nothing happened at 201.\n",
      "\n",
      "Nothing happened at 203.\n",
      "\n",
      "Nothing happened at 205.\n",
      "\n",
      "Nothing happened at 207.\n",
      "\n",
      "Nothing happened at 209.\n",
      "\n",
      "Nothing happened at 211.\n",
      "\n",
      "Nothing happened at 213.\n",
      "\n",
      "Nothing happened at 215.\n",
      "\n",
      "Nothing happened at 217.\n",
      "\n",
      "Nothing happened at 219.\n",
      "\n",
      "Nothing happened at 221.\n",
      "\n",
      "Nothing happened at 223.\n",
      "\n",
      "Nothing happened at 225.\n",
      "\n",
      "Nothing happened at 227.\n",
      "\n",
      "Nothing happened at 229.\n",
      "\n",
      "Nothing happened at 231.\n",
      "\n",
      "Nothing happened at 233.\n",
      "\n",
      "Nothing happened at 235.\n",
      "\n",
      "Nothing happened at 237.\n",
      "\n",
      "Nothing happened at 239.\n",
      "\n",
      "Nothing happened at 241.\n",
      "\n",
      "Nothing happened at 243.\n",
      "\n",
      "Nothing happened at 245.\n",
      "\n",
      "Nothing happened at 247.\n",
      "\n",
      "Nothing happened at 249.\n",
      "\n",
      "Nothing happened at 251.\n",
      "\n",
      "Nothing happened at 253.\n",
      "\n",
      "Nothing happened at 255.\n",
      "\n",
      "You blew fuse 257\n",
      "\n",
      "Nothing happened at 256.\n",
      "\n",
      "Target Fuse: 256\n",
      "Input the target fuse: 256\n",
      "Correct fuse bypass detected....\n",
      "\n",
      "Authorization verified. Bypassing...\n",
      "\n",
      "The next character is 7\n",
      "Now, you must unscramble the characters to find the passcode. Enter the password into the parenthesis in heist.access()\n",
      "You may have to write some code to guess the correct combination\n"
     ]
    }
   ],
   "source": [
    "fuseIsSafe = True\n",
    "N = -1\n",
    "\n",
    "while(fuseIsSafe):\n",
    "    N += 2\n",
    "    fuseIsSafe = heist.fuseBypass.test(N)\n",
    "else:\n",
    "    fuseIsSafe = heist.fuseBypass.test(N - 1)\n",
    "    if fuseIsSafe:\n",
    "        print(\"Target Fuse: \"+str(N - 1))\n",
    "    else:\n",
    "        print(\"Target Fuse: \"+str(N - 2))\n",
    "        \n",
    "heist.fuseBypass.bypass()"
   ]
  },
  {
   "cell_type": "markdown",
   "metadata": {},
   "source": [
    "### Enter Acess Key: CHARACTERS: &5Y7\n",
    "\n",
    "**Access Key: &5Y7 are the characters we've unlocked. Now, we need to unscramble them. To do this, we'll write a loop to try every combination of the four letters**\n",
    "\n",
    "**There are many ways to do this, and the most obvious is probably nested loops. I have included a counting variable to see how many solutions we tried. The solution looks like this:**"
   ]
  },
  {
   "cell_type": "code",
   "execution_count": 1,
   "metadata": {},
   "outputs": [
    {
     "output_type": "stream",
     "name": "stdout",
     "text": [
      "&&&&\n"
     ]
    },
    {
     "output_type": "error",
     "ename": "NameError",
     "evalue": "name 'heist' is not defined",
     "traceback": [
      "\u001b[0;31m---------------------------------------------------------------------------\u001b[0m",
      "\u001b[0;31mNameError\u001b[0m                                 Traceback (most recent call last)",
      "\u001b[0;32m/var/folders/sg/l98mgdfd1h74209nxf37yhzh0000gn/T/ipykernel_11021/2604990290.py\u001b[0m in \u001b[0;36m<module>\u001b[0;34m\u001b[0m\n\u001b[1;32m      8\u001b[0m                 \u001b[0mpassword\u001b[0m \u001b[0;34m=\u001b[0m \u001b[0mfirstLetter\u001b[0m \u001b[0;34m+\u001b[0m \u001b[0msecondLetter\u001b[0m \u001b[0;34m+\u001b[0m \u001b[0mthirdLetter\u001b[0m \u001b[0;34m+\u001b[0m \u001b[0mfourthLetter\u001b[0m\u001b[0;34m\u001b[0m\u001b[0;34m\u001b[0m\u001b[0m\n\u001b[1;32m      9\u001b[0m                 \u001b[0mprint\u001b[0m\u001b[0;34m(\u001b[0m\u001b[0mpassword\u001b[0m\u001b[0;34m)\u001b[0m\u001b[0;34m\u001b[0m\u001b[0;34m\u001b[0m\u001b[0m\n\u001b[0;32m---> 10\u001b[0;31m                 \u001b[0mheist\u001b[0m\u001b[0;34m.\u001b[0m\u001b[0maccess\u001b[0m\u001b[0;34m(\u001b[0m\u001b[0mpassword\u001b[0m\u001b[0;34m)\u001b[0m\u001b[0;34m\u001b[0m\u001b[0;34m\u001b[0m\u001b[0m\n\u001b[0m\u001b[1;32m     11\u001b[0m                 \u001b[0mpasswordsTried\u001b[0m \u001b[0;34m+=\u001b[0m \u001b[0;36m1\u001b[0m\u001b[0;34m\u001b[0m\u001b[0;34m\u001b[0m\u001b[0m\n\u001b[1;32m     12\u001b[0m \u001b[0;34m\u001b[0m\u001b[0m\n",
      "\u001b[0;31mNameError\u001b[0m: name 'heist' is not defined"
     ]
    }
   ],
   "source": [
    "characters = ['&', '5', '7', 'Y']\n",
    "passwordsTried = 0\n",
    "\n",
    "for firstLetter in characters:\n",
    "    for secondLetter in characters:\n",
    "        for thirdLetter in characters:\n",
    "            for fourthLetter in characters:\n",
    "                password = firstLetter + secondLetter + thirdLetter + fourthLetter\n",
    "                print(password)\n",
    "                heist.access(password)\n",
    "                passwordsTried += 1\n",
    "\n",
    "print(\"We tried \"+str(passwordsTried)+\" passwords with this loop\")\n",
    "            "
   ]
  },
  {
   "cell_type": "markdown",
   "metadata": {},
   "source": [
    "**This is certainly not the most efficient way to do this (but it works). Here, we are including tries when letters are the same, and we know those can't be passwords. If you remember Permutations from math class, you'll see that with 4 options for the first digit, 3 for the second, 2 for the third, and 1 for the last we have only 4\\*3\\*2\\*1 = 24 possible combinations. I've tried far too many here.**\n",
    "\n",
    "**Let's unscramble the 8 digit key while avoiding these repeates. We can also recognize that with 8 digits, we are essentially counting in base 8, and ignoring any number that has repeated digits. Thus, we can make a counter like this:**"
   ]
  },
  {
   "cell_type": "code",
   "execution_count": 2,
   "metadata": {},
   "outputs": [
    {
     "name": "stdout",
     "output_type": "stream",
     "text": [
      "Password authentication complete...\n",
      "Retrieving data...\n",
      ".\n",
      "\n",
      ".\n",
      "\n",
      ".\n",
      "\n",
      "\n",
      "Congratulations! You've successfully unlocked the vault. Don't spoil the Rickroll for anyone else ;)\n",
      "13103\n"
     ]
    }
   ],
   "source": [
    "characters = ('&', '5', 'Y', '7', 'G', 'L', '8', 'T')\n",
    "baseEight = [0,0,0,0,0,0,0,0]\n",
    "numberOfChecks = 0\n",
    "\n",
    "unlocked = False\n",
    "\n",
    "while(not unlocked):\n",
    "    #This checks for repeat digits in the list. With a quick google search I found the set() function that removes \n",
    "    #duplicate items from a list. So if any number is repeated we skip because the length of set(baseEight) will be\n",
    "    #less than the length of baseEight\n",
    "    \n",
    "    currentSet = baseEight\n",
    "    \n",
    "    if len(baseEight) == len(set(currentSet)): #didn't want to modify baseEight for the check so copied to currentSet first\n",
    "        password = characters[baseEight[0]]+characters[baseEight[1]]+characters[baseEight[2]]+characters[baseEight[3]]+characters[baseEight[4]]+characters[baseEight[5]]+characters[baseEight[6]]+characters[baseEight[7]]\n",
    "        unlocked = heist.access(password)\n",
    "        numberOfChecks += 1\n",
    "    \n",
    "    \n",
    "    #This is the Lexicographical Order algorithm. Essentially, it will count up the digits in baseEight until they reach\n",
    "    #7, then reset that digit to 0 and add one to the next digit. Check out\n",
    "    #https://en.wikipedia.org/wiki/Lexicographical_order for more info. If you don't understand it, don't sweat it\n",
    "    #the nested loops solution works great\n",
    "    counter = 1\n",
    "    for i in range(8):\n",
    "        if (baseEight[i] < 7 or counter == 0):\n",
    "            baseEight[i] += counter\n",
    "            counter = 0\n",
    "            break\n",
    "        else:\n",
    "            baseEight[i] = 0\n",
    "            counter = 1\n",
    "            \n",
    "    if baseEight == [7,7,7,7,7,7,7,7]:\n",
    "        break\n",
    "else:        \n",
    "    print(numberOfChecks)"
   ]
  },
  {
   "cell_type": "markdown",
   "metadata": {},
   "source": [
    "**The code above tests 40,320 different passwords, or 8\\*7\\*6\\*5\\*4\\*3\\*2\\*1 instead of the theoretical 8^8 combinations with the nested for loop, or 16,777,216 passwords.**\n",
    "\n",
    "## The correct password is G78T&5LY"
   ]
  },
  {
   "cell_type": "code",
   "execution_count": null,
   "metadata": {},
   "outputs": [],
   "source": []
  }
 ],
 "metadata": {
  "kernelspec": {
   "name": "python3",
   "display_name": "Python 3.9.6 64-bit ('3.9')"
  },
  "language_info": {
   "codemirror_mode": {
    "name": "ipython",
    "version": 3
   },
   "file_extension": ".py",
   "mimetype": "text/x-python",
   "name": "python",
   "nbconvert_exporter": "python",
   "pygments_lexer": "ipython3",
   "version": "3.9.6"
  },
  "interpreter": {
   "hash": "7812ea015bdcee6f23a998adcdd2ef97c151c0c241b7b7070987d9313e41299d"
  }
 },
 "nbformat": 4,
 "nbformat_minor": 2
}